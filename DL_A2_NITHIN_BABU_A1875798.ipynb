{
 "cells": [
  {
   "cell_type": "markdown",
   "metadata": {
    "id": "rnkMSGLpF9U4"
   },
   "source": [
    "# Import packages"
   ]
  },
  {
   "cell_type": "code",
   "execution_count": 2,
   "metadata": {
    "id": "O9Jf4tDsfe1g"
   },
   "outputs": [],
   "source": [
    "import tensorflow as tf\n",
    "import numpy as np\n",
    "import pandas as pd\n",
    "import seaborn as sns\n",
    "import matplotlib.pyplot as plt\n",
    "import datetime\n",
    "import pathlib\n",
    "import io\n",
    "from datetime import datetime\n",
    "import json\n",
    "import xml.etree.ElementTree as ET\n",
    "import os\n",
    "import shutil\n",
    "import cv2\n",
    "import time\n",
    "import random\n",
    "from PIL import Image\n",
    "from sklearn.metrics import average_precision_score\n",
    "import albumentations as A\n",
    "import tensorflow_datasets as tfds\n",
    "from tensorflow.keras.models import Model\n",
    "from tensorflow.keras.layers import Layer\n",
    "from tensorflow.keras.layers import (GlobalAveragePooling2D, Activation, MaxPooling2D, Add, Conv2D, MaxPool2D, Dense,\n",
    "                                     Flatten, InputLayer, BatchNormalization, Input, Embedding, Permute,\n",
    "                                     Dropout, RandomFlip, RandomRotation, LayerNormalization, MultiHeadAttention,\n",
    "                                     RandomContrast, Rescaling, Resizing, Reshape, LeakyReLU)\n",
    "from tensorflow.keras.losses import BinaryCrossentropy,CategoricalCrossentropy, SparseCategoricalCrossentropy\n",
    "from tensorflow.keras.metrics import Accuracy,TopKCategoricalAccuracy, CategoricalAccuracy, SparseCategoricalAccuracy\n",
    "from tensorflow.keras.optimizers import Adam\n",
    "from tensorflow.keras.callbacks import (Callback, CSVLogger, EarlyStopping, LearningRateScheduler,\n",
    "                                        ModelCheckpoint, ReduceLROnPlateau)\n",
    "from tensorflow.keras.regularizers import L2, L1\n",
    "from tensorflow.keras.initializers import RandomNormal\n",
    "\n",
    "# Plot setup\n",
    "import matplotlib as mpl\n",
    "mpl.rc('axes', labelsize=7)\n",
    "mpl.rc('xtick', labelsize=6)\n",
    "mpl.rc('ytick', labelsize=6)\n",
    "mpl.rc('figure', dpi=240)\n",
    "plt.close('all')\n",
    "from IPython.display import display, Markdown\n",
    "\n",
    "# To avoid non-essential warnings\n",
    "import warnings\n",
    "warnings.filterwarnings(\"ignore\")"
   ]
  },
  {
   "cell_type": "code",
   "execution_count": null,
   "metadata": {
    "id": "tE3QM2HB-ALV"
   },
   "outputs": [],
   "source": [
    "!pip install -q kaggle"
   ]
  },
  {
   "cell_type": "code",
   "execution_count": null,
   "metadata": {
    "id": "ZwlgN_0P_Qgx"
   },
   "outputs": [],
   "source": [
    "from google.colab import files\n",
    "files.upload()"
   ]
  },
  {
   "cell_type": "markdown",
   "metadata": {
    "id": "mjIGOKcUikaF"
   },
   "source": [
    "# Dataset Download"
   ]
  },
  {
   "cell_type": "code",
   "execution_count": null,
   "metadata": {
    "id": "VnodE7S2DgJT"
   },
   "outputs": [],
   "source": [
    "!mkdir ~/.kaggle\n",
    "!cp kaggle.json ~/.kaggle/\n",
    "!chmod 600 /root/.kaggle/kaggle.json"
   ]
  },
  {
   "cell_type": "code",
   "execution_count": null,
   "metadata": {
    "id": "OR5P1ItZ_g6Z"
   },
   "outputs": [],
   "source": [
    "!kaggle datasets download -d huanghanchina/pascal-voc-2012"
   ]
  },
  {
   "cell_type": "code",
   "execution_count": null,
   "metadata": {
    "id": "Ty3MspnrKXab"
   },
   "outputs": [],
   "source": [
    "!unzip \"/content/pascal-voc-2012.zip\" -d \"/content/dataset/\""
   ]
  },
  {
   "cell_type": "code",
   "execution_count": 3,
   "metadata": {
    "colab": {
     "base_uri": "https://localhost:8080/"
    },
    "id": "70rs6BHPDNqM",
    "outputId": "951da010-a53e-479f-ffef-b197d1bd95a7"
   },
   "outputs": [],
   "source": [
    "train_images_dir='/content/dataset/VOC2012/JPEGImages/'\n",
    "train_maps_dir='/content/dataset/VOC2012/Annotations/'\n",
    "\n",
    "# List all files in the directory\n",
    "file_list = os.listdir(train_images_dir)\n",
    "\n",
    "# Filter the list to include only image files (.jpg)\n",
    "image_files = [file for file in file_list if file.lower().endswith(('.jpg'))]\n",
    "\n",
    "# number of images to select for validation and test sets (10% each)\n",
    "num_images = len(image_files)\n",
    "num_val_images = int(0.10 * num_images)\n",
    "num_test_images = int(0.10 * num_images)\n",
    "\n",
    "# Print the number of images\n",
    "print(f\"Number of images: {len(image_files)}\")"
   ]
  },
  {
   "cell_type": "code",
   "execution_count": 4,
   "metadata": {
    "colab": {
     "base_uri": "https://localhost:8080/"
    },
    "id": "xZOyTZucFO0R",
    "outputId": "d73b72f0-e473-4637-da3c-9a4b84c74bc5"
   },
   "outputs": [],
   "source": [
    "# Define the seed for reproducibility\n",
    "random.seed(42)\n",
    "\n",
    "# Randomly select images for validation set\n",
    "val_list = random.sample(image_files, num_val_images)\n",
    "\n",
    "# Remove selected images from the image_files list\n",
    "for image_file in val_list:\n",
    "    image_files.remove(image_file)\n",
    "\n",
    "# Randomly select images for test set\n",
    "test_list = random.sample(image_files, num_test_images)\n",
    "\n",
    "# Remove selected images from the image_files list\n",
    "for image_file in test_list:\n",
    "    image_files.remove(image_file)\n",
    "\n",
    "# Print the number of images in each set\n",
    "print(f\"Number of images in training list: {len(image_files)}\")\n",
    "print(f\"Number of images in validation list: {len(val_list)}\")\n",
    "print(f\"Number of images in test list: {len(test_list)}\")"
   ]
  },
  {
   "cell_type": "code",
   "execution_count": null,
   "metadata": {
    "id": "eULXDi3TElxK"
   },
   "outputs": [],
   "source": [
    "val_images_dir='/content/dataset/VOC2012/ValJPEGImages/'\n",
    "val_maps_dir='/content/dataset/VOC2012/ValAnnotations/'\n",
    "\n",
    "test_images_dir='/content/dataset/VOC2012/TestJPEGImages/'\n",
    "test_maps_dir='/content/dataset/VOC2012/TestAnnotations/'"
   ]
  },
  {
   "cell_type": "code",
   "execution_count": null,
   "metadata": {
    "id": "i_UCA8Wk1Y-w"
   },
   "outputs": [],
   "source": [
    "!mkdir /content/dataset/VOC2012/ValJPEGImages/\n",
    "!mkdir /content/dataset/VOC2012/ValAnnotations/\n",
    "!mkdir /content/dataset/VOC2012/TestJPEGImages/\n",
    "!mkdir /content/dataset/VOC2012/TestAnnotations/"
   ]
  },
  {
   "cell_type": "code",
   "execution_count": null,
   "metadata": {
    "id": "FoWS5hUs1XkJ"
   },
   "outputs": [],
   "source": [
    "for name in val_list:\n",
    "  shutil.move(train_maps_dir+name[:-3]+\"xml\", val_maps_dir+name[:-3]+\"xml\")\n",
    "\n",
    "for name in val_list:\n",
    "  shutil.move(train_images_dir+name, val_images_dir+name)"
   ]
  },
  {
   "cell_type": "code",
   "execution_count": null,
   "metadata": {
    "id": "u0xG46Yl9-8U"
   },
   "outputs": [],
   "source": [
    "for name in test_list:\n",
    "  shutil.move(train_maps_dir+name[:-3]+\"xml\", test_maps_dir+name[:-3]+\"xml\")\n",
    "\n",
    "for name in test_list:\n",
    "  shutil.move(train_images_dir+name, test_images_dir+name)"
   ]
  },
  {
   "cell_type": "code",
   "execution_count": 5,
   "metadata": {
    "colab": {
     "base_uri": "https://localhost:8080/"
    },
    "id": "V68t7hbOG0P4",
    "outputId": "10dc231f-9109-4661-cd77-b23e72c28068"
   },
   "outputs": [],
   "source": [
    "file_list = os.listdir(train_images_dir)\n",
    "image_file = [file for file in file_list if file.lower().endswith(('.jpg'))]\n",
    "print(f\"Number of images in training set: {len(image_file)}\")\n",
    "\n",
    "file_list = os.listdir(val_images_dir)\n",
    "image_file = [file for file in file_list if file.lower().endswith(('.jpg'))]\n",
    "print(f\"Number of images in validation set: {len(image_file)}\")\n",
    "\n",
    "file_list = os.listdir(test_images_dir)\n",
    "image_file = [file for file in file_list if file.lower().endswith(('.jpg'))]\n",
    "print(f\"Number of images in test set: {len(image_file)}\")"
   ]
  },
  {
   "cell_type": "markdown",
   "metadata": {
    "id": "iZSKZSsxioCm"
   },
   "source": [
    "# Data Preparation"
   ]
  },
  {
   "cell_type": "code",
   "execution_count": null,
   "metadata": {
    "id": "zm-gYaleAwOC"
   },
   "outputs": [],
   "source": [
    "classes=['aeroplane','bicycle','bird','boat','bottle','bus','car','cat','chair','cow','diningtable',\n",
    "         'dog','horse','motorbike','person','pottedplant','sheep','sofa','train','tvmonitor']\n",
    "\n",
    "B=2\n",
    "N_CLASSES=len(classes)\n",
    "H,W =224,224\n",
    "SPLIT_SIZE=H//32\n",
    "N_EPOCHS=150\n",
    "BATCH_SIZE=32"
   ]
  },
  {
   "cell_type": "code",
   "execution_count": null,
   "metadata": {
    "id": "Fz3rHnO2g8b7"
   },
   "outputs": [],
   "source": [
    "def preprocess_xml(filename):\n",
    "  tree = ET.parse(filename)\n",
    "  root = tree.getroot()\n",
    "  loc = root.find('size')\n",
    "  h = float(loc.find('height').text)\n",
    "  w = float(loc.find('width').text)\n",
    "  a=[]\n",
    "  for i in root.findall('object'):\n",
    "    for j in i.iter('bndbox'):\n",
    "      top_l_x = (float(j.find('xmin').text))\n",
    "      top_l_y = (float(j.find('ymin').text))\n",
    "      bot_r_x = (float(j.find('xmax').text))\n",
    "      bot_r_y = (float(j.find('ymax').text))\n",
    "      break\n",
    "    classification = i.find('name').text\n",
    "    classification_dict={classes[i]:i for i in range(len(classes))}\n",
    "    a_ch = [\n",
    "        (top_l_x + bot_r_x)/(2*w),(top_l_y + bot_r_y)/(2*h),(bot_r_x-top_l_x)/w,\n",
    "        (bot_r_y-top_l_y)/h, classification_dict[classification]]\n",
    "    a.append(a_ch)\n",
    "  return tf.convert_to_tensor(a)"
   ]
  },
  {
   "cell_type": "code",
   "execution_count": null,
   "metadata": {
    "id": "sTFXxcoeg__c"
   },
   "outputs": [],
   "source": [
    "def generate_output(bounding_boxes):\n",
    "  output_label=np.zeros((SPLIT_SIZE,SPLIT_SIZE,N_CLASSES+5))\n",
    "  for b in range(len(bounding_boxes)):\n",
    "    grid_x=bounding_boxes[...,b,0]*SPLIT_SIZE\n",
    "    grid_y=bounding_boxes[...,b,1]*SPLIT_SIZE\n",
    "    i=int(grid_x)\n",
    "    j=int(grid_y)\n",
    "\n",
    "    output_label[i,j,0:5]=[1.,grid_x%1,grid_y%1,bounding_boxes[...,b,2],bounding_boxes[...,b,3]]\n",
    "    output_label[i,j,5+int(bounding_boxes[...,b,4])]=1.\n",
    "\n",
    "  return tf.convert_to_tensor(output_label,tf.float32)"
   ]
  },
  {
   "cell_type": "code",
   "execution_count": null,
   "metadata": {
    "id": "DQjSB7Zn7FlH"
   },
   "outputs": [],
   "source": [
    "im_paths=[]\n",
    "xml_paths=[]\n",
    "\n",
    "val_im_paths=[]\n",
    "val_xml_paths=[]\n",
    "\n",
    "\n",
    "for i in os.listdir(train_maps_dir):\n",
    "\n",
    "  im_paths.append(train_images_dir+i[:-3]+'jpg')\n",
    "  xml_paths.append(train_maps_dir+i)\n",
    "\n",
    "for i in os.listdir(val_maps_dir):\n",
    "\n",
    "  val_im_paths.append(val_images_dir+i[:-3]+'jpg')\n",
    "  val_xml_paths.append(val_maps_dir+i)"
   ]
  },
  {
   "cell_type": "code",
   "execution_count": null,
   "metadata": {
    "id": "-sl3BwUjAwpU"
   },
   "outputs": [],
   "source": [
    "train_dataset=tf.data.Dataset.from_tensor_slices((im_paths,xml_paths))\n",
    "val_dataset=tf.data.Dataset.from_tensor_slices((val_im_paths,val_xml_paths))"
   ]
  },
  {
   "cell_type": "code",
   "execution_count": null,
   "metadata": {
    "id": "Lrg46DOlOZTH"
   },
   "outputs": [],
   "source": [
    "def get_imbboxes(im_path,xml_path):\n",
    "  img=tf.io.decode_jpeg(tf.io.read_file(im_path))\n",
    "  img=tf.cast(tf.image.resize(img, [H,W]),dtype=tf.float32)\n",
    "\n",
    "  bboxes=tf.numpy_function(func=preprocess_xml, inp=[xml_path], Tout=tf.float32)\n",
    "  return img,bboxes"
   ]
  },
  {
   "cell_type": "code",
   "execution_count": null,
   "metadata": {
    "id": "EOLIwSITBxmJ"
   },
   "outputs": [],
   "source": [
    "train_dataset=train_dataset.map(get_imbboxes)\n",
    "val_dataset=val_dataset.map(get_imbboxes)"
   ]
  },
  {
   "cell_type": "code",
   "execution_count": null,
   "metadata": {
    "id": "4WRcTSJCZQVF"
   },
   "outputs": [],
   "source": [
    "def display_image(image_path):\n",
    "    # Read the image using OpenCV\n",
    "    image = cv2.imread(image_path)\n",
    "\n",
    "    if image is not None:\n",
    "        # Convert BGR to RGB (OpenCV loads images in BGR format)\n",
    "        image_rgb = cv2.cvtColor(image, cv2.COLOR_BGR2RGB)\n",
    "\n",
    "        # Display the image using matplotlib\n",
    "        plt.imshow(image_rgb)\n",
    "        plt.axis('off')  # Turn off axis labels and ticks\n",
    "        plt.show()\n",
    "    else:\n",
    "        print(f\"Failed to load the image at path: {image_path}\")"
   ]
  },
  {
   "cell_type": "code",
   "execution_count": 6,
   "metadata": {
    "colab": {
     "base_uri": "https://localhost:8080/"
    },
    "id": "6dKTo0JYBxom",
    "outputId": "de5f8455-f628-4872-ff85-3bd248679223"
   },
   "outputs": [],
   "source": [
    "for i,j in train_dataset.skip(0):\n",
    "  # print(i.shape,j)\n",
    "  break\n",
    "\n",
    "cv2.imwrite('out_1.jpg',np.array(i))\n",
    "\n",
    "# display_image('out_1.jpg')"
   ]
  },
  {
   "cell_type": "code",
   "execution_count": null,
   "metadata": {
    "id": "SMVz42ht7XUv"
   },
   "outputs": [],
   "source": [
    "transforms = A.Compose([\n",
    "    A.Resize(H,W),\n",
    "    A.RandomCrop(\n",
    "         width=np.random.randint(int(0.9*W),W),\n",
    "         height=np.random.randint(int(0.9*H),H), p=0.5),\n",
    "    A.RandomScale(scale_limit=0.1, interpolation=cv2.INTER_LANCZOS4,p=0.5),\n",
    "    A.HorizontalFlip(p=0.5,),\n",
    "    A.Resize(H,W),\n",
    "\n",
    "], bbox_params=A.BboxParams(format='yolo', ))"
   ]
  },
  {
   "cell_type": "code",
   "execution_count": null,
   "metadata": {
    "id": "uVHsFUUNeZGV"
   },
   "outputs": [],
   "source": [
    "def aug_albument(image,bboxes):\n",
    "  augmented=transforms(image=image,bboxes=bboxes)\n",
    "  return [tf.convert_to_tensor(augmented[\"image\"],dtype=tf.float32),\n",
    "          tf.convert_to_tensor(augmented[\"bboxes\"],dtype=tf.float32)]"
   ]
  },
  {
   "cell_type": "code",
   "execution_count": null,
   "metadata": {
    "id": "R0U_N4rMS1C-"
   },
   "outputs": [],
   "source": [
    "def process_data(image,bboxes):\n",
    "    aug= tf.numpy_function(func=aug_albument, inp=[image,bboxes], Tout=(tf.float32,tf.float32))\n",
    "    return aug[0],aug[1]"
   ]
  },
  {
   "cell_type": "code",
   "execution_count": null,
   "metadata": {
    "id": "ZNjL4DAzgpGo"
   },
   "outputs": [],
   "source": [
    "train_dataset=train_dataset.map(process_data)"
   ]
  },
  {
   "cell_type": "code",
   "execution_count": 7,
   "metadata": {
    "colab": {
     "base_uri": "https://localhost:8080/"
    },
    "id": "JwVETxojgpJh",
    "outputId": "ed61cea4-c540-4b7c-b957-d6976d12872d"
   },
   "outputs": [],
   "source": [
    "for i,j in train_dataset.skip(0):\n",
    "  # print(i.shape,j)\n",
    "  break\n",
    "\n",
    "cv2.imwrite('out_2.jpg',np.array(i))\n",
    "\n",
    "# display_image('out_2.jpg')"
   ]
  },
  {
   "cell_type": "code",
   "execution_count": null,
   "metadata": {
    "id": "aUsA7y7KxwNi"
   },
   "outputs": [],
   "source": [
    "def preprocess_augment(img,y):\n",
    "  img = tf.image.random_brightness(img, max_delta=50.)\n",
    "  img = tf.image.random_saturation(img, lower=0.5, upper=1.5)\n",
    "  img = tf.image.random_contrast(img, lower=0.5, upper=1.5)\n",
    "  #img = tf.image.random_hue(img, max_delta=0.5 )\n",
    "  img = tf.clip_by_value(img, 0, 255)\n",
    "  labels=tf.numpy_function(func=generate_output, inp=[y], Tout=(tf.float32))\n",
    "  return img,labels"
   ]
  },
  {
   "cell_type": "code",
   "execution_count": null,
   "metadata": {
    "id": "D8ZsLcjfgih2"
   },
   "outputs": [],
   "source": [
    "def preprocess(img,y):\n",
    "  img = tf.cast(tf.image.resize(img, size=[H, W]), dtype=tf.float32)\n",
    "\n",
    "  labels=tf.numpy_function(func=generate_output, inp=[y], Tout=(tf.float32))\n",
    "  return img,labels"
   ]
  },
  {
   "cell_type": "code",
   "execution_count": null,
   "metadata": {
    "id": "C3ViaB8lgikP"
   },
   "outputs": [],
   "source": [
    "train_dataset=train_dataset.map(preprocess_augment)\n",
    "val_dataset=val_dataset.map(preprocess)"
   ]
  },
  {
   "cell_type": "code",
   "execution_count": null,
   "metadata": {
    "id": "1GptrY4-gimh"
   },
   "outputs": [],
   "source": [
    "train_dataset=(\n",
    "  train_dataset.\n",
    "  batch(BATCH_SIZE).\n",
    "  prefetch(tf.data.AUTOTUNE)\n",
    ")"
   ]
  },
  {
   "cell_type": "code",
   "execution_count": null,
   "metadata": {
    "id": "7qEQp4RPgipK"
   },
   "outputs": [],
   "source": [
    "val_dataset=(\n",
    "  val_dataset.\n",
    "  batch(BATCH_SIZE).\n",
    "  prefetch(tf.data.AUTOTUNE)\n",
    ")"
   ]
  },
  {
   "cell_type": "code",
   "execution_count": 8,
   "metadata": {
    "colab": {
     "base_uri": "https://localhost:8080/"
    },
    "id": "8w54dj2Fgirq",
    "outputId": "1a499264-dcac-42e4-c2ba-79879d2c12a4"
   },
   "outputs": [],
   "source": [
    "for i,j in train_dataset.take(1):\n",
    "  # print(i.shape,j)\n",
    "  break\n",
    "\n",
    "cv2.imwrite('out_3.jpg',np.array(i[0]))\n",
    "\n",
    "# display_image('out_3.jpg')"
   ]
  },
  {
   "cell_type": "markdown",
   "metadata": {
    "id": "S1ujUNruGtmi"
   },
   "source": [
    "# Model"
   ]
  },
  {
   "cell_type": "code",
   "execution_count": null,
   "metadata": {
    "id": "xKwVhqkfi51K"
   },
   "outputs": [],
   "source": [
    "NUM_FILTERS=512\n",
    "OUTPUT_DIM=N_CLASSES+5*B"
   ]
  },
  {
   "cell_type": "markdown",
   "metadata": {
    "id": "VJlOopkMR3ya"
   },
   "source": [
    "### Model 1 (ResNet50)\n"
   ]
  },
  {
   "cell_type": "code",
   "execution_count": 9,
   "metadata": {
    "colab": {
     "base_uri": "https://localhost:8080/"
    },
    "id": "9QurGIeli9Cp",
    "outputId": "e2cb1c98-b7d1-4781-dbee-11e2ef0974ed"
   },
   "outputs": [],
   "source": [
    "base_model_res50 = tf.keras.applications.resnet50.ResNet50(\n",
    "    weights='imagenet',\n",
    "    input_shape=(H,W,3),\n",
    "    include_top=False,\n",
    ")\n",
    "base_model_res50.trainable=False"
   ]
  },
  {
   "cell_type": "code",
   "execution_count": null,
   "metadata": {
    "colab": {
     "base_uri": "https://localhost:8080/"
    },
    "id": "tqrvjReCildh",
    "outputId": "122164b6-1fc4-41e8-cba8-8fa36f4e2c82"
   },
   "outputs": [
    {
     "name": "stdout",
     "output_type": "stream",
     "text": [
      "Model: \"sequential\"\n",
      "_________________________________________________________________\n",
      " Layer (type)                Output Shape              Param #   \n",
      "=================================================================\n",
      " resnet50 (Functional)       (None, 7, 7, 2048)        23587712  \n",
      "                                                                 \n",
      " conv2d (Conv2D)             (None, 7, 7, 512)         9437696   \n",
      "                                                                 \n",
      " batch_normalization (Batch  (None, 7, 7, 512)         2048      \n",
      " Normalization)                                                  \n",
      "                                                                 \n",
      " leaky_re_lu (LeakyReLU)     (None, 7, 7, 512)         0         \n",
      "                                                                 \n",
      " conv2d_1 (Conv2D)           (None, 7, 7, 512)         2359808   \n",
      "                                                                 \n",
      " batch_normalization_1 (Bat  (None, 7, 7, 512)         2048      \n",
      " chNormalization)                                                \n",
      "                                                                 \n",
      " leaky_re_lu_1 (LeakyReLU)   (None, 7, 7, 512)         0         \n",
      "                                                                 \n",
      " conv2d_2 (Conv2D)           (None, 7, 7, 512)         2359808   \n",
      "                                                                 \n",
      " batch_normalization_2 (Bat  (None, 7, 7, 512)         2048      \n",
      " chNormalization)                                                \n",
      "                                                                 \n",
      " leaky_re_lu_2 (LeakyReLU)   (None, 7, 7, 512)         0         \n",
      "                                                                 \n",
      " conv2d_3 (Conv2D)           (None, 7, 7, 512)         2359808   \n",
      "                                                                 \n",
      " leaky_re_lu_3 (LeakyReLU)   (None, 7, 7, 512)         0         \n",
      "                                                                 \n",
      " flatten (Flatten)           (None, 25088)             0         \n",
      "                                                                 \n",
      " dense (Dense)               (None, 512)               12845568  \n",
      "                                                                 \n",
      " batch_normalization_3 (Bat  (None, 512)               2048      \n",
      " chNormalization)                                                \n",
      "                                                                 \n",
      " leaky_re_lu_4 (LeakyReLU)   (None, 512)               0         \n",
      "                                                                 \n",
      " dropout (Dropout)           (None, 512)               0         \n",
      "                                                                 \n",
      " dense_1 (Dense)             (None, 1470)              754110    \n",
      "                                                                 \n",
      " reshape (Reshape)           (None, 7, 7, 30)          0         \n",
      "                                                                 \n",
      "=================================================================\n",
      "Total params: 53712702 (204.90 MB)\n",
      "Trainable params: 30120894 (114.90 MB)\n",
      "Non-trainable params: 23591808 (90.00 MB)\n",
      "_________________________________________________________________\n"
     ]
    }
   ],
   "source": [
    "model_res50=tf.keras.Sequential([\n",
    "  base_model_res50,\n",
    "  Conv2D(NUM_FILTERS,(3,3), padding = 'same',kernel_initializer='he_normal',),\n",
    "  BatchNormalization(),\n",
    "  LeakyReLU(alpha=0.1),\n",
    "\n",
    "  Conv2D(NUM_FILTERS,(3,3),padding = 'same',kernel_initializer='he_normal',),\n",
    "  BatchNormalization(),\n",
    "  LeakyReLU(alpha=0.1),\n",
    "\n",
    "  Conv2D(NUM_FILTERS,(3,3),padding = 'same',kernel_initializer='he_normal',),\n",
    "  BatchNormalization(),\n",
    "  LeakyReLU(alpha=0.1),\n",
    "\n",
    "  Conv2D(NUM_FILTERS,(3,3),padding = 'same',kernel_initializer='he_normal',),\n",
    "  LeakyReLU(alpha=0.1),\n",
    "\n",
    "  Flatten(),\n",
    "\n",
    "  Dense(NUM_FILTERS,kernel_initializer='he_normal',),\n",
    "  BatchNormalization(),\n",
    "  LeakyReLU(alpha=0.1),\n",
    "\n",
    "  Dropout(0.5),\n",
    "\n",
    "  Dense(SPLIT_SIZE*SPLIT_SIZE*OUTPUT_DIM,activation='sigmoid'),\n",
    "\n",
    "  Reshape((SPLIT_SIZE,SPLIT_SIZE,OUTPUT_DIM)),\n",
    "])\n",
    "model_res50.summary()"
   ]
  },
  {
   "cell_type": "markdown",
   "metadata": {
    "id": "_DTCn80TSP9d"
   },
   "source": [
    "### Model 2 (EfficientNetB1)\n"
   ]
  },
  {
   "cell_type": "code",
   "execution_count": null,
   "metadata": {
    "colab": {
     "base_uri": "https://localhost:8080/"
    },
    "id": "NgZvjgUrSBpo",
    "outputId": "d39abca3-6ba2-42d6-b449-486e3e87fd92"
   },
   "outputs": [
    {
     "name": "stdout",
     "output_type": "stream",
     "text": [
      "Downloading data from https://storage.googleapis.com/keras-applications/efficientnetb1_notop.h5\n",
      "27018416/27018416 [==============================] - 2s 0us/step\n"
     ]
    }
   ],
   "source": [
    "base_model_eff =tf.keras.applications.efficientnet.EfficientNetB1(\n",
    "    weights='imagenet',\n",
    "    input_shape=(H,W,3),\n",
    "    include_top=False,\n",
    ")\n",
    "base_model_eff.trainable=False"
   ]
  },
  {
   "cell_type": "code",
   "execution_count": null,
   "metadata": {
    "colab": {
     "base_uri": "https://localhost:8080/"
    },
    "id": "ppxyARdwSBpq",
    "outputId": "420b560f-1f5c-44d0-e7c6-fa19e925ad91"
   },
   "outputs": [
    {
     "name": "stdout",
     "output_type": "stream",
     "text": [
      "Model: \"sequential_1\"\n",
      "_________________________________________________________________\n",
      " Layer (type)                Output Shape              Param #   \n",
      "=================================================================\n",
      " efficientnetb1 (Functional  (None, 7, 7, 1280)        6575239   \n",
      " )                                                               \n",
      "                                                                 \n",
      " conv2d_4 (Conv2D)           (None, 7, 7, 512)         5898752   \n",
      "                                                                 \n",
      " batch_normalization_4 (Bat  (None, 7, 7, 512)         2048      \n",
      " chNormalization)                                                \n",
      "                                                                 \n",
      " leaky_re_lu_5 (LeakyReLU)   (None, 7, 7, 512)         0         \n",
      "                                                                 \n",
      " conv2d_5 (Conv2D)           (None, 7, 7, 512)         2359808   \n",
      "                                                                 \n",
      " batch_normalization_5 (Bat  (None, 7, 7, 512)         2048      \n",
      " chNormalization)                                                \n",
      "                                                                 \n",
      " leaky_re_lu_6 (LeakyReLU)   (None, 7, 7, 512)         0         \n",
      "                                                                 \n",
      " conv2d_6 (Conv2D)           (None, 7, 7, 512)         2359808   \n",
      "                                                                 \n",
      " batch_normalization_6 (Bat  (None, 7, 7, 512)         2048      \n",
      " chNormalization)                                                \n",
      "                                                                 \n",
      " leaky_re_lu_7 (LeakyReLU)   (None, 7, 7, 512)         0         \n",
      "                                                                 \n",
      " conv2d_7 (Conv2D)           (None, 7, 7, 512)         2359808   \n",
      "                                                                 \n",
      " leaky_re_lu_8 (LeakyReLU)   (None, 7, 7, 512)         0         \n",
      "                                                                 \n",
      " flatten_1 (Flatten)         (None, 25088)             0         \n",
      "                                                                 \n",
      " dense_2 (Dense)             (None, 512)               12845568  \n",
      "                                                                 \n",
      " batch_normalization_7 (Bat  (None, 512)               2048      \n",
      " chNormalization)                                                \n",
      "                                                                 \n",
      " leaky_re_lu_9 (LeakyReLU)   (None, 512)               0         \n",
      "                                                                 \n",
      " dropout_1 (Dropout)         (None, 512)               0         \n",
      "                                                                 \n",
      " dense_3 (Dense)             (None, 1470)              754110    \n",
      "                                                                 \n",
      " reshape_1 (Reshape)         (None, 7, 7, 30)          0         \n",
      "                                                                 \n",
      "=================================================================\n",
      "Total params: 33161285 (126.50 MB)\n",
      "Trainable params: 26581950 (101.40 MB)\n",
      "Non-trainable params: 6579335 (25.10 MB)\n",
      "_________________________________________________________________\n"
     ]
    }
   ],
   "source": [
    "model_eff=tf.keras.Sequential([\n",
    "  base_model_eff,\n",
    "  Conv2D(NUM_FILTERS,(3,3), padding = 'same',kernel_initializer='he_normal',),\n",
    "  BatchNormalization(),\n",
    "  LeakyReLU(alpha=0.1),\n",
    "\n",
    "  Conv2D(NUM_FILTERS,(3,3),padding = 'same',kernel_initializer='he_normal',),\n",
    "  BatchNormalization(),\n",
    "  LeakyReLU(alpha=0.1),\n",
    "\n",
    "  Conv2D(NUM_FILTERS,(3,3),padding = 'same',kernel_initializer='he_normal',),\n",
    "  BatchNormalization(),\n",
    "  LeakyReLU(alpha=0.1),\n",
    "\n",
    "  Conv2D(NUM_FILTERS,(3,3),padding = 'same',kernel_initializer='he_normal',),\n",
    "  LeakyReLU(alpha=0.1),\n",
    "\n",
    "  Flatten(),\n",
    "\n",
    "  Dense(NUM_FILTERS,kernel_initializer='he_normal',),\n",
    "  BatchNormalization(),\n",
    "  LeakyReLU(alpha=0.1),\n",
    "\n",
    "  Dropout(0.5),\n",
    "\n",
    "  Dense(SPLIT_SIZE*SPLIT_SIZE*OUTPUT_DIM,activation='sigmoid'),\n",
    "\n",
    "  Reshape((SPLIT_SIZE,SPLIT_SIZE,OUTPUT_DIM)),\n",
    "])\n",
    "model_eff.summary()"
   ]
  },
  {
   "cell_type": "code",
   "execution_count": null,
   "metadata": {
    "id": "87oWv0sYtRCz"
   },
   "outputs": [],
   "source": [
    "def compute_iou(a1, a2, t=\"tf\"):\n",
    "    a1_l = tf.stack([a1[..., 0] - a1[..., 2] / 2.0,\n",
    "                         a1[..., 1] - a1[..., 3] / 2.0,\n",
    "                         a1[..., 0] + a1[..., 2] / 2.0,\n",
    "                         a1[..., 1] + a1[..., 3] / 2.0],\n",
    "                        axis=-1)\n",
    "\n",
    "    a2_l = tf.stack([a2[..., 0] - a2[..., 2] / 2.0,\n",
    "                         a2[..., 1] - a2[..., 3] / 2.0,\n",
    "                         a2[..., 0] + a2[..., 2] / 2.0,\n",
    "                         a2[..., 1] + a2[..., 3] / 2.0],\n",
    "                        axis=-1)\n",
    "    top_l = tf.maximum(a1_l[..., :2], a2_l[..., :2])\n",
    "    bot_r = tf.minimum(a1_l[..., 2:], a2_l[..., 2:])\n",
    "\n",
    "    common_section = tf.maximum(0.0, bot_r - top_l)\n",
    "    common_area = common_section[..., 0] * common_section[..., 1]\n",
    "\n",
    "    a1_area = a1[..., 2] * a1[..., 3]\n",
    "    a2_area = a2[..., 2] * a2[..., 3]\n",
    "\n",
    "    total_area = tf.maximum(a1_area + a2_area - common_area, 1e-10)\n",
    "    if t==\"tf\":\n",
    "      result = tf.clip_by_value(common_area / total_area, 0.0, 1.0)\n",
    "      return result\n",
    "    else:\n",
    "      return common_area / total_area"
   ]
  },
  {
   "cell_type": "code",
   "execution_count": null,
   "metadata": {
    "id": "-1L5Y0JStrtk"
   },
   "outputs": [],
   "source": [
    "def difference(x,y):\n",
    "  return tf.reduce_sum(tf.square(y-x))"
   ]
  },
  {
   "cell_type": "code",
   "execution_count": null,
   "metadata": {
    "id": "ZJRN0DfZWbx0"
   },
   "outputs": [],
   "source": [
    "def yolo_loss(y_true, y_pred):\n",
    "  target = y_true[...,0]\n",
    "\n",
    "  ###################### OBject Loss\n",
    "  y_pred_extract = tf.gather_nd(y_pred, tf.where(target[:]==1))\n",
    "  y_target_extract = tf.gather_nd(y_true, tf.where(target[:]==1))\n",
    "\n",
    "  rescaler = tf.where(target[:]==1)*SPLIT_SIZE\n",
    "  upscaler_1 = tf.concat([rescaler[:,1:],tf.zeros([len(rescaler),2], dtype=tf.int64)],axis=-1)\n",
    "\n",
    "  target_upscaler_2 = tf.repeat([[float(SPLIT_SIZE),float(SPLIT_SIZE),H,W]],\n",
    "                       repeats=[len(rescaler)], axis=0)*tf.cast(y_target_extract[...,1:5], dtype = tf.float32)\n",
    "  pred_1_upscaler_2 = tf.repeat([[float(SPLIT_SIZE),float(SPLIT_SIZE),H,W]],\n",
    "                      repeats=[len(rescaler)], axis=0)*tf.cast(y_pred_extract[...,1:5], dtype = tf.float32)\n",
    "  pred_2_upscaler_2 = tf.repeat([[float(SPLIT_SIZE),float(SPLIT_SIZE),H,W]],\n",
    "                      repeats=[len(rescaler)], axis=0)*tf.cast(y_pred_extract[...,6:10], dtype = tf.float32)\n",
    "\n",
    "  target_orig = tf.cast(upscaler_1, dtype = tf.float32)+target_upscaler_2\n",
    "  pred_1_orig = tf.cast(upscaler_1, dtype = tf.float32)+pred_1_upscaler_2\n",
    "  pred_2_orig = tf.cast(upscaler_1, dtype = tf.float32)+pred_2_upscaler_2\n",
    "\n",
    "  mask =tf.cast(tf.math.greater(compute_iou(target_orig,pred_2_orig),\n",
    "                                         compute_iou(target_orig,pred_1_orig)),dtype=tf.int32)\n",
    "\n",
    "  y_pred_joined=tf.transpose(tf.concat([tf.expand_dims(y_pred_extract[...,0],axis=0),\n",
    "                        tf.expand_dims(y_pred_extract[...,5],axis=0)],axis=0))\n",
    "\n",
    "  obj_pred = tf.gather_nd(y_pred_joined,tf.stack([tf.range(len(rescaler)),mask],axis=-1))\n",
    "\n",
    "  object_loss = difference(tf.cast(obj_pred,dtype =tf.float32)\n",
    "                            ,tf.cast(tf.ones([len(rescaler)]),dtype=tf.float32))\n",
    "\n",
    "  ####################### For No object\n",
    "  y_pred_extract = tf.gather_nd(y_pred[...,0:B*5], tf.where(target[:]==0))\n",
    "  y_target_extract = tf.zeros(len(y_pred_extract))\n",
    "\n",
    "  no_object_loss_1 = difference(tf.cast(y_pred_extract[...,0],dtype =tf.float32)\n",
    "                            ,tf.cast(y_target_extract,dtype=tf.float32))\n",
    "\n",
    "  no_object_loss_2 = difference(tf.cast(y_pred_extract[...,5],dtype =tf.float32)\n",
    "                            ,tf.cast(y_target_extract,dtype=tf.float32))\n",
    "\n",
    "  no_object_loss = no_object_loss_1+no_object_loss_2\n",
    "\n",
    "  ######################## For OBject class loss\n",
    "  y_pred_extract = tf.gather_nd(y_pred[...,10:],tf.where(target[:]==1))\n",
    "  class_extract = tf.gather_nd(y_true[...,5:],tf.where(target[:]==1))\n",
    "\n",
    "  class_loss = difference(tf.cast(y_pred_extract,dtype =tf.float32)\n",
    "                                ,tf.cast(class_extract,dtype=tf.float32))\n",
    "\n",
    "  ######################### For object bounding box loss\n",
    "  y_pred_extract = tf.gather_nd(y_pred[...,0:B*5], tf.where(target[:]==1))\n",
    "  centre_joined=tf.stack([y_pred_extract[...,1:3],y_pred_extract[...,6:8]],axis=1)\n",
    "  centre_pred = tf.gather_nd(centre_joined,tf.stack([tf.range(len(rescaler)),mask],axis=-1))\n",
    "  centre_target = tf.gather_nd(y_true[...,1:3], tf.where(target[:]==1))\n",
    "\n",
    "  centre_loss = difference(centre_pred,centre_target)\n",
    "\n",
    "  size_joined=tf.stack([y_pred_extract[...,3:5],y_pred_extract[...,8:10]],axis=1)\n",
    "\n",
    "  size_pred = tf.gather_nd(size_joined,tf.stack([tf.range(len(rescaler)),mask],axis=-1))\n",
    "  size_target = tf.gather_nd(y_true[...,3:5], tf.where(target[:]==1))\n",
    "\n",
    "  size_loss = difference(tf.math.sqrt(tf.math.abs(size_pred)),tf.math.sqrt(tf.math.abs(size_target)))\n",
    "  box_loss = centre_loss+size_loss\n",
    "\n",
    "  lambda_coord = 5.0\n",
    "  lambda_no_obj = 0.5\n",
    "\n",
    "  loss = object_loss + (lambda_no_obj*no_object_loss)+ tf.cast(lambda_coord*box_loss,dtype=tf.float32)+ tf.cast(class_loss,dtype=tf.float32)\n",
    "  return loss"
   ]
  },
  {
   "cell_type": "code",
   "execution_count": null,
   "metadata": {
    "id": "iN0y2Ah9V_Jj"
   },
   "outputs": [],
   "source": [
    "def plot_loss(history):\n",
    "    # Extract loss values\n",
    "    train_loss = history.history['loss']\n",
    "    val_loss = history.history['val_loss']\n",
    "\n",
    "    # Plot training & validation loss values\n",
    "    plt.figure(figsize=(12, 6))\n",
    "    plt.plot(train_loss, label='Train Loss')\n",
    "    plt.plot(val_loss, label='Validation Loss')\n",
    "    plt.title('Training and Validation Loss vs. Epochs')\n",
    "    plt.ylabel('Loss')\n",
    "    plt.xlabel('Epoch')\n",
    "    plt.legend(loc='upper right')\n",
    "    plt.grid(True)\n",
    "    plt.show()"
   ]
  },
  {
   "cell_type": "code",
   "execution_count": null,
   "metadata": {
    "id": "tcrbbUDA3nAz"
   },
   "outputs": [],
   "source": [
    "def scheduler(epoch, lr):\n",
    "  if epoch < 40:\n",
    "    return 1e-3\n",
    "  elif epoch>=40 and epoch<80:\n",
    "    return 5e-4\n",
    "  else:\n",
    "    return 1e-4"
   ]
  },
  {
   "cell_type": "code",
   "execution_count": null,
   "metadata": {
    "id": "-nKYwrhu8qIr"
   },
   "outputs": [],
   "source": [
    "lr_callback = tf.keras.callbacks.LearningRateScheduler(scheduler)"
   ]
  },
  {
   "cell_type": "code",
   "execution_count": null,
   "metadata": {
    "colab": {
     "base_uri": "https://localhost:8080/"
    },
    "id": "1SJn_Wd6TrK2",
    "outputId": "011ee0ab-2457-49c0-8ca8-e54e5b358bbc"
   },
   "outputs": [
    {
     "name": "stdout",
     "output_type": "stream",
     "text": [
      "Mounted at /content/drive\n"
     ]
    }
   ],
   "source": [
    "from google.colab import drive\n",
    "drive.mount('/content/drive')"
   ]
  },
  {
   "cell_type": "code",
   "execution_count": null,
   "metadata": {
    "id": "d_KGTtU3S_k_"
   },
   "outputs": [],
   "source": [
    "checkpoint_filepath_res50 ='/content/drive/MyDrive/model/yolo_ResNet50_new.h5'\n",
    "callback = tf.keras.callbacks.ModelCheckpoint(\n",
    "    filepath = checkpoint_filepath_res50,\n",
    "    save_weights_only=True,\n",
    "    monitor='val_loss',\n",
    "    mode='min',\n",
    "    save_best_only=True\n",
    ")"
   ]
  },
  {
   "cell_type": "code",
   "execution_count": null,
   "metadata": {
    "id": "mvwcdzQhWj7u"
   },
   "outputs": [],
   "source": [
    "model_res50.compile(\n",
    "  loss=yolo_loss,\n",
    "  optimizer=Adam(1e-3),\n",
    ")"
   ]
  },
  {
   "cell_type": "code",
   "execution_count": null,
   "metadata": {
    "id": "QxrZjY2BT921"
   },
   "outputs": [],
   "source": [
    "# model_res50.load_weights(checkpoint_filepath)"
   ]
  },
  {
   "cell_type": "code",
   "execution_count": 15,
   "metadata": {
    "id": "hylBcHGrT-ZK"
   },
   "outputs": [],
   "source": [
    "history_res50 = model_res50.fit(\n",
    "  train_dataset,\n",
    "  validation_data=val_dataset,\n",
    "  verbose=1,\n",
    "  epochs=150,\n",
    "  callbacks=[lr_callback, callback,]\n",
    ")"
   ]
  },
  {
   "cell_type": "code",
   "execution_count": 1,
   "metadata": {
    "colab": {
     "base_uri": "https://localhost:8080/",
     "height": 500
    },
    "id": "183pc5LJVVN0",
    "outputId": "7f637cc5-6dd0-44c5-edf9-d3d552a124ab"
   },
   "outputs": [],
   "source": [
    "plot_loss(history_res50)"
   ]
  },
  {
   "cell_type": "code",
   "execution_count": null,
   "metadata": {
    "id": "oECDXLZWTB43"
   },
   "outputs": [],
   "source": [
    "checkpoint_filepath_eff='/content/drive/MyDrive/model/yolo_efficientnet_b1_new.h5'\n",
    "callback = tf.keras.callbacks.ModelCheckpoint(\n",
    "    filepath = checkpoint_filepath_eff,\n",
    "    save_weights_only=True,\n",
    "    monitor='val_loss',\n",
    "    mode='min',\n",
    "    save_best_only=True\n",
    ")"
   ]
  },
  {
   "cell_type": "code",
   "execution_count": null,
   "metadata": {
    "id": "LtbhzQqvTCMF"
   },
   "outputs": [],
   "source": [
    "model_eff.compile(\n",
    "  loss=yolo_loss,\n",
    "  optimizer=Adam(1e-3),\n",
    ")"
   ]
  },
  {
   "cell_type": "code",
   "execution_count": null,
   "metadata": {
    "id": "IiUElFgPmwfF"
   },
   "outputs": [],
   "source": [
    "# model_eff.load_weights(checkpoint_filepath)"
   ]
  },
  {
   "cell_type": "code",
   "execution_count": 14,
   "metadata": {
    "id": "pyPV4BiaQhco"
   },
   "outputs": [],
   "source": [
    "history_eff = model_eff.fit(\n",
    "  train_dataset,\n",
    "  validation_data=val_dataset,\n",
    "  verbose=1,\n",
    "  epochs=150,\n",
    "  callbacks=[lr_callback, callback,]\n",
    ")"
   ]
  },
  {
   "cell_type": "code",
   "execution_count": 2,
   "metadata": {
    "colab": {
     "base_uri": "https://localhost:8080/",
     "height": 500
    },
    "id": "c_VryK6S8WKH",
    "outputId": "c8fa31e3-bd1d-4a7d-b4d6-51016c874452"
   },
   "outputs": [],
   "source": [
    "plot_loss(history_eff)"
   ]
  },
  {
   "cell_type": "markdown",
   "metadata": {
    "id": "wT-H3ar0f0E5"
   },
   "source": [
    "# Testing"
   ]
  },
  {
   "cell_type": "code",
   "execution_count": null,
   "metadata": {
    "colab": {
     "base_uri": "https://localhost:8080/"
    },
    "id": "fyEZOskbZsZm",
    "outputId": "40855421-32a0-4bef-8ed9-37fa20093b42"
   },
   "outputs": [
    {
     "name": "stdout",
     "output_type": "stream",
     "text": [
      "Mounted at /content/drive\n"
     ]
    }
   ],
   "source": [
    "# from google.colab import drive\n",
    "# drive.mount('/content/drive')"
   ]
  },
  {
   "cell_type": "code",
   "execution_count": null,
   "metadata": {
    "id": "VALwhrAQZ7ve"
   },
   "outputs": [],
   "source": [
    "# checkpoint_filepath_res50 ='/content/drive/MyDrive/model/yolo_ResNet50_new.h5'\n",
    "# checkpoint_filepath_eff='/content/drive/MyDrive/model/yolo_efficientnet_b1_new.h5'"
   ]
  },
  {
   "cell_type": "code",
   "execution_count": null,
   "metadata": {
    "id": "3n4Ptr4k6FP3"
   },
   "outputs": [],
   "source": [
    "# model_res50.load_weights(checkpoint_filepath_res50)\n",
    "# model_eff.load_weights(checkpoint_filepath_eff)"
   ]
  },
  {
   "cell_type": "code",
   "execution_count": null,
   "metadata": {
    "id": "tMMD1KU95O__"
   },
   "outputs": [],
   "source": [
    "!mkdir outputs/"
   ]
  },
  {
   "cell_type": "code",
   "execution_count": null,
   "metadata": {
    "id": "TK9oWfBGdINX"
   },
   "outputs": [],
   "source": [
    "# test_images_dir='/content/dataset/VOC2012/TestJPEGImages/'"
   ]
  },
  {
   "cell_type": "code",
   "execution_count": null,
   "metadata": {
    "id": "VFLDHJf3Uk92"
   },
   "outputs": [],
   "source": [
    "# N_CLASSES = 20"
   ]
  },
  {
   "cell_type": "code",
   "execution_count": null,
   "metadata": {
    "id": "gQcO2h32TkdA"
   },
   "outputs": [],
   "source": [
    "def reset_lists():\n",
    "    global all_predicted_boxes, all_predicted_labels, all_predicted_scores, all_ground_truth_boxes, all_ground_truth_labels\n",
    "    all_predicted_boxes = []\n",
    "    all_predicted_labels = []\n",
    "    all_predicted_scores = []\n",
    "    all_ground_truth_boxes = []\n",
    "    all_ground_truth_labels = []"
   ]
  },
  {
   "cell_type": "code",
   "execution_count": null,
   "metadata": {
    "id": "_Ai557nT7uxa"
   },
   "outputs": [],
   "source": [
    "def model_test(filename, model):\n",
    "  try:\n",
    "    test_path=test_images_dir+filename\n",
    "\n",
    "    # print(test_path)\n",
    "\n",
    "    img=cv2.resize(cv2.imread(test_path),(H,W))\n",
    "\n",
    "    image=tf.io.decode_jpeg(tf.io.read_file(test_path))\n",
    "    image=tf.image.resize(image, [H,W])\n",
    "\n",
    "    output=model.predict(np.expand_dims(image, axis = 0))\n",
    "\n",
    "    ground_truth_boxes = preprocess_xml(test_maps_dir + filename.replace('.jpg', '.xml'))\n",
    "    all_ground_truth_boxes.append(ground_truth_boxes)\n",
    "\n",
    "    THRESH=.25\n",
    "\n",
    "    object_positions=tf.concat(\n",
    "        [tf.where(output[...,0]>=THRESH),tf.where(output[...,5]>=THRESH)],axis=0)\n",
    "    # print(object_positions)\n",
    "    selected_output=tf.gather_nd(output,object_positions)\n",
    "    # print(selected_output)\n",
    "    final_boxes=[]\n",
    "    final_scores=[]\n",
    "\n",
    "    for i,pos in enumerate(object_positions):\n",
    "      for j in range(2):\n",
    "        if selected_output[i][j*5]>THRESH:\n",
    "          output_box=tf.cast(output[pos[0]][pos[1]][pos[2]][(j*5)+1:(j*5)+5],dtype=tf.float32)\n",
    "\n",
    "          x_centre=(tf.cast(pos[1],dtype=tf.float32)+output_box[0])*32\n",
    "          y_centre=(tf.cast(pos[2],dtype=tf.float32)+output_box[1])*32\n",
    "\n",
    "          x_width,y_height=tf.math.abs(H*output_box[2]),tf.math.abs(W*output_box[3])\n",
    "\n",
    "          x_min,y_min=int(x_centre-(x_width/2)),int(y_centre-(y_height/2))\n",
    "          x_max,y_max=int(x_centre+(x_width/2)),int(y_centre+(y_height/2))\n",
    "\n",
    "          if(x_min<=0):x_min=0\n",
    "          if(y_min<=0):y_min=0\n",
    "          if(x_max>=W):x_max=W\n",
    "          if(y_max>=H):y_max=H\n",
    "          final_boxes.append(\n",
    "              [x_min,y_min,x_max,y_max,\n",
    "              str(classes[tf.argmax(selected_output[...,10:],axis=-1)[i]])])\n",
    "          final_scores.append(selected_output[i][j*5])\n",
    "    # print(final_scores)\n",
    "    # print('finalboxes',final_boxes)\n",
    "    final_boxes=np.array(final_boxes)\n",
    "\n",
    "    object_classes=final_boxes[...,4]\n",
    "    nms_boxes=final_boxes[...,0:4]\n",
    "\n",
    "    nms_output=tf.image.non_max_suppression(\n",
    "        nms_boxes,final_scores,max_output_size=100,iou_threshold=0.2,\n",
    "        score_threshold=float('-inf')\n",
    "    )\n",
    "    # print(nms_output)\n",
    "\n",
    "    for i in nms_output:\n",
    "      cv2.rectangle(\n",
    "          img,\n",
    "          (int(final_boxes[i][0]),int(final_boxes[i][1])),\n",
    "          (int(final_boxes[i][2]),int(final_boxes[i][3])),(0,0,255),1)\n",
    "      cv2.putText(\n",
    "          img,\n",
    "          final_boxes[i][-1],\n",
    "          (int(final_boxes[i][0]),int(final_boxes[i][1])+15),\n",
    "          cv2.FONT_HERSHEY_COMPLEX_SMALL,1,(2,225,155),1\n",
    "          )\n",
    "\n",
    "    cv2.imwrite('/content/outputs/'+filename[:-4]+'_det'+'.jpg',cv2.resize(img,(384,384)))\n",
    "\n",
    "     # Assuming bounding box format is [x_min, y_min, x_max, y_max, class_id]\n",
    "    pred_boxes = nms_boxes.numpy()\n",
    "    pred_labels = [box[4] for box in final_boxes]\n",
    "    pred_scores = final_scores\n",
    "\n",
    "    all_predicted_boxes.append(pred_boxes)\n",
    "    all_predicted_labels.append(pred_labels)\n",
    "    all_predicted_scores.append(pred_scores)\n",
    "\n",
    "  except:\n",
    "    print(\"NO object found !!!\")"
   ]
  },
  {
   "cell_type": "code",
   "execution_count": null,
   "metadata": {
    "id": "G3x2edJoUXXI"
   },
   "outputs": [],
   "source": [
    "def calculate_mAP(N_CLASSES, all_predicted_boxes, all_predicted_labels, all_predicted_scores, all_ground_truth_boxes):\n",
    "    APs = []\n",
    "\n",
    "    for class_idx in range(N_CLASSES):\n",
    "        true_labels = []\n",
    "        pred_scores = []\n",
    "\n",
    "        for i in range(len(all_predicted_boxes)):\n",
    "            pred_boxes = all_predicted_boxes[i]\n",
    "            pred_labels = all_predicted_labels[i]\n",
    "            scores = all_predicted_scores[i]\n",
    "\n",
    "            gt_boxes = all_ground_truth_boxes[i]\n",
    "\n",
    "            for j, pbox in enumerate(pred_boxes):\n",
    "                if pred_labels[j] == class_idx:\n",
    "                    matched = False\n",
    "                    for gt_box in gt_boxes:\n",
    "                        if compute_iou(pbox, gt_box[:4], t=\"\") > 0.5 and int(gt_box[4]) == class_idx:\n",
    "                            true_labels.append(1)\n",
    "                            matched = True\n",
    "                            break\n",
    "\n",
    "                    if not matched:\n",
    "                        true_labels.append(0)\n",
    "\n",
    "                    pred_scores.append(scores[j])\n",
    "\n",
    "        AP = average_precision_score(true_labels, pred_scores)\n",
    "        APs.append(AP)\n",
    "\n",
    "    mAP = sum(APs) / len(APs)\n",
    "    return mAP"
   ]
  },
  {
   "cell_type": "code",
   "execution_count": null,
   "metadata": {
    "id": "09RvCO_XpusV"
   },
   "outputs": [],
   "source": [
    "# Define a function to measure FPS for a given model\n",
    "def measure_fps(model, test_list):\n",
    "    # Start timer\n",
    "    start_time = time.time()\n",
    "\n",
    "    # Reset lists\n",
    "    reset_lists()\n",
    "\n",
    "    # Process all images/frames in the test set using the model\n",
    "    for filename in test_list:\n",
    "        model_test(filename, model)\n",
    "\n",
    "    # Stop timer\n",
    "    end_time = time.time()\n",
    "\n",
    "    # Calculate total time taken\n",
    "    total_time = end_time - start_time\n",
    "\n",
    "    # Calculate FPS\n",
    "    fps = len(test_list) / total_time\n",
    "\n",
    "    return fps"
   ]
  },
  {
   "cell_type": "code",
   "execution_count": 26,
   "metadata": {
    "id": "BlJeXVCBWdRJ"
   },
   "outputs": [
    {
     "name": "stdout",
     "output_type": "stream",
     "text": [
      "FPS for ResNet-50: 49.0\n",
      "mAP for ResNet-50: 73.1\n"
     ]
    }
   ],
   "source": [
    "fps_res50 = measure_fps(model_res50, test_list)\n",
    "print(f\"FPS for ResNet-50: {round(fps_res50,0)}\")\n",
    "\n",
    "mAP_res50 = calculate_mAP(N_CLASSES, all_predicted_boxes, all_predicted_labels, all_predicted_scores, all_ground_truth_boxes)\n",
    "print(f\"mAP for ResNet-50: {round(mAP_res50,1)}\")"
   ]
  },
  {
   "cell_type": "code",
   "execution_count": 21,
   "metadata": {
    "id": "6FUh5zudXUQI"
   },
   "outputs": [
    {
     "name": "stdout",
     "output_type": "stream",
     "text": [
      "FPS for EfficientNet: 57.0\n",
      "mAP for EfficientNet:: 73.8\n"
     ]
    }
   ],
   "source": [
    "fps_eff = measure_fps(model_eff, test_list)\n",
    "print(f\"FPS for EfficientNet: {round(fps_eff,0)}\")\n",
    "\n",
    "mAP_eff = calculate_mAP(N_CLASSES, all_predicted_boxes, all_predicted_labels, all_predicted_scores, all_ground_truth_boxes)\n",
    "print(f\"mAP for EfficientNet:: {round(mAP_eff,1)}\")"
   ]
  },
  {
   "cell_type": "markdown",
   "metadata": {
    "id": "XlJDI7SDPxrz"
   },
   "source": [
    "# Model Comparison"
   ]
  },
  {
   "cell_type": "code",
   "execution_count": 32,
   "metadata": {
    "id": "PObiMKcdPwCx"
   },
   "outputs": [],
   "source": [
    "# Sample metrics_df_new\n",
    "metrics_df_comp = pd.DataFrame(\n",
    "                   {\n",
    "                    'Yolo based Models': ['EfficientNet',\n",
    "                              'ResNet-50'],\n",
    "\n",
    "                    'FPS': [round(float(fps_eff), 0),\n",
    "                            round(float(fps_res50), 0)],\n",
    "\n",
    "                    'mAP': [round(float(mAP_eff), 1),\n",
    "                           round(float(mAP_res50), 1)]\n",
    "                   })"
   ]
  },
  {
   "cell_type": "code",
   "execution_count": 33,
   "metadata": {
    "colab": {
     "base_uri": "https://localhost:8080/",
     "height": 693
    },
    "id": "FTzUi_hyP08_",
    "outputId": "ded40c33-989a-44be-d45d-2061c12c07c5",
    "scrolled": false
   },
   "outputs": [
    {
     "data": {
      "image/png": "[encoded data removed]",
      "text/plain": [
       "<Figure size 600x300 with 1 Axes>"
      ]
     },
     "metadata": {},
     "output_type": "display_data"
    }
   ],
   "source": [
    "# Set the style\n",
    "sns.set(style='darkgrid')\n",
    "\n",
    "# Melt the dataframe\n",
    "metrics_melted = pd.melt(metrics_df_comp,\n",
    "                         id_vars='Yolo based Models',\n",
    "                         value_vars=['FPS', 'mAP'],\n",
    "                         var_name='Metric',\n",
    "                         value_name='Value')\n",
    "\n",
    "# Create the bar plot using Seaborn\n",
    "plt.figure(figsize=(6, 3))\n",
    "\n",
    "ax = sns.barplot(x='Yolo based Models',\n",
    "                 y='Value',\n",
    "                 hue='Metric',\n",
    "                 data=metrics_melted,\n",
    "                 palette='coolwarm')\n",
    "\n",
    "# Add dotted lines for the threshold values\n",
    "plt.axhline(y=45,\n",
    "            linestyle='dotted',\n",
    "            color='blue',\n",
    "            label='FPS Threshold (45)')\n",
    "\n",
    "plt.axhline(y=63.4,\n",
    "            linestyle='dotted',\n",
    "            color='red',\n",
    "            label='mAP Threshold (63.4)')\n",
    "\n",
    "# Set the labels for the x-axis\n",
    "plt.xlabel('Yolo based Models', fontsize=10)\n",
    "\n",
    "# Set the labels for the y-axis\n",
    "plt.ylabel('Metric Value', fontsize=10)\n",
    "\n",
    "# Set the title for the plot\n",
    "plt.title('FPS and mAP for Different Models:',\n",
    "          fontsize=14)\n",
    "\n",
    "# Place the legend outside the plot\n",
    "plt.legend(bbox_to_anchor=(1, 1),\n",
    "           loc='upper left',\n",
    "           fontsize='x-small')\n",
    "\n",
    "# Add annotations to the bars\n",
    "for p in ax.patches:\n",
    "    height = p.get_height()\n",
    "    ax.annotate(f'{height:.2f}',\n",
    "                (p.get_x() + p.get_width() / 2, height/2+0.02),\n",
    "                ha='center',\n",
    "                va='center',\n",
    "                fontsize=8,\n",
    "                fontweight='bold',\n",
    "                color='black')\n",
    "\n",
    "# Add text annotations for the threshold values on the y-axis\n",
    "plt.text(-0.48, 63.4, '63.4', fontsize=6, color='red', ha='right')\n",
    "plt.text(-0.48, 45, '45', fontsize=6, color='blue', ha='right')\n",
    "\n",
    "# Show the plot\n",
    "plt.tight_layout()\n",
    "plt.show()"
   ]
  },
  {
   "cell_type": "markdown",
   "metadata": {
    "id": "cHQP2fMyZoWv"
   },
   "source": [
    "* We can say EfficientNet is the best model with good mAP and FPS"
   ]
  }
 ],
 "metadata": {
  "accelerator": "GPU",
  "colab": {
   "gpuType": "T4",
   "provenance": []
  },
  "kernelspec": {
   "display_name": "Python 3 (ipykernel)",
   "language": "python",
   "name": "python3"
  },
  "language_info": {
   "codemirror_mode": {
    "name": "ipython",
    "version": 3
   },
   "file_extension": ".py",
   "mimetype": "text/x-python",
   "name": "python",
   "nbconvert_exporter": "python",
   "pygments_lexer": "ipython3",
   "version": "3.9.18"
  }
 },
 "nbformat": 4,
 "nbformat_minor": 1
}
